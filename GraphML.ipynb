{
 "cells": [
  {
   "cell_type": "markdown",
   "id": "6b61b324",
   "metadata": {},
   "source": [
    "<div style=\"text-align: center;\">\n",
    "\n",
    "<h1>Graph ML with Unattributed Networks</h1>\n",
    "\n",
    "<h2>By</h2>\n",
    "\n",
    "<h2>Anwar Said</h2>\n",
    "\n",
    "<h3>Institute for Software Integrated Systems,</h3>\n",
    "\n",
    "<h2>Vanderbilt University</h2>\n",
    "\n",
    "</div>"
   ]
  },
  {
   "cell_type": "markdown",
   "id": "0db34102",
   "metadata": {},
   "source": [
    "## Agenda\n",
    "\n",
    "1. Graph and ML\n",
    "2. Downstream Tasks\n",
    "3. Graph ML Applications\n",
    "4. GNNs\n",
    "5. Attributed/Unattributed Networks\n",
    "6. PropEncoder\n",
    "7. Implementing a GNN with PyG\n"
   ]
  },
  {
   "cell_type": "markdown",
   "id": "0009c851",
   "metadata": {},
   "source": [
    "##### Will be using PyG for implementation\n",
    "\n",
    "<img src=\"figures/pyg.png\" alt=\"Figure description\" width=\"900\"/>"
   ]
  },
  {
   "cell_type": "code",
   "execution_count": 148,
   "id": "ff67488d",
   "metadata": {},
   "outputs": [],
   "source": [
    "#install torch and pyg\n",
    "# !pip3 install torch torchvision torchaudio\n",
    "# !pip install pyg_lib torch_scatter torch_sparse torch_cluster torch_spline_conv -f https://data.pyg.org/whl/torch-2.2.0+cpu.html\n",
    "# !pip install torch_geometric\n",
    "import os\n",
    "os.environ[\"MKL_VERBOSE\"] = \"0\""
   ]
  },
  {
   "cell_type": "markdown",
   "id": "bde57876",
   "metadata": {},
   "source": [
    "## Graph ML\n",
    "\n",
    "A branch of ML that deals with graph data"
   ]
  },
  {
   "cell_type": "markdown",
   "id": "99ed8867",
   "metadata": {},
   "source": [
    "### Graph\n",
    "\n",
    "<img src=\"figures/graph.svg\" alt=\"Figure description\" width=\"500\"/>\n"
   ]
  },
  {
   "cell_type": "markdown",
   "id": "fbea46ae",
   "metadata": {},
   "source": [
    "## Components\n",
    "\n",
    "1. Nodes\n",
    "2. Edges\n",
    "3. Node Features\n",
    "4. Edge Features (Optional)\n",
    "5. Node labels or Graph label"
   ]
  },
  {
   "cell_type": "markdown",
   "id": "b151e722",
   "metadata": {},
   "source": [
    "## Types \n",
    "1. Undirected\n",
    "2. Directed\n",
    "3. Attributed\n",
    "4. Unattributed\n",
    "5. Weighted/unweighted \n",
    "6. Bipartite Graphs\n",
    "7. Knowledge Graphs"
   ]
  },
  {
   "cell_type": "markdown",
   "id": "e25df5d4",
   "metadata": {},
   "source": [
    "## Representing a graph\n",
    "1. Adjacency Matrix\n",
    "2. Edge Index\n",
    "\n",
    "so many others!"
   ]
  },
  {
   "cell_type": "markdown",
   "id": "18e3364a",
   "metadata": {},
   "source": [
    "<img src=\"figures/mtog.png\" alt=\"Figure description\" width=\"800\"/>\n"
   ]
  },
  {
   "cell_type": "markdown",
   "id": "2586a7bb",
   "metadata": {},
   "source": [
    "#### Networkx - Easy way to represent and plot simple graphs\n",
    "\n"
   ]
  },
  {
   "cell_type": "code",
   "execution_count": 2,
   "id": "f02c67bc",
   "metadata": {},
   "outputs": [],
   "source": [
    "import networkx as nx"
   ]
  },
  {
   "cell_type": "markdown",
   "id": "8818eb3d",
   "metadata": {},
   "source": [
    "<img src=\"figures/networkx.png\" alt=\"Figure description\" width=\"800\"/>"
   ]
  },
  {
   "cell_type": "code",
   "execution_count": 205,
   "id": "8964c035",
   "metadata": {},
   "outputs": [],
   "source": [
    "# networkx representation of a graph\n"
   ]
  },
  {
   "cell_type": "markdown",
   "id": "ff960b7d",
   "metadata": {},
   "source": [
    "## PyG"
   ]
  },
  {
   "cell_type": "code",
   "execution_count": 206,
   "id": "ea226d67",
   "metadata": {},
   "outputs": [
    {
     "data": {
      "text/plain": [
       "Data(x=[3, 1], edge_index=[2, 4])"
      ]
     },
     "execution_count": 206,
     "metadata": {},
     "output_type": "execute_result"
    }
   ],
   "source": [
    "import torch\n",
    "from torch_geometric.data import Data\n",
    "\n",
    "\n",
    "edge_index = torch.tensor([[0, 1, 1, 2],\n",
    "                           [1, 0, 2, 1]], dtype=torch.long)\n",
    "x = torch.tensor([[-1], [0], [1]], dtype=torch.float)\n",
    "\n",
    "data = Data(x=x, edge_index=edge_index)\n",
    "data"
   ]
  },
  {
   "cell_type": "code",
   "execution_count": 208,
   "id": "ddcd6fa5",
   "metadata": {},
   "outputs": [],
   "source": [
    "## plot the graph\n",
    "from torch_geometric.utils import to_networkx"
   ]
  },
  {
   "cell_type": "code",
   "execution_count": 210,
   "id": "bfdc3f91",
   "metadata": {},
   "outputs": [],
   "source": [
    "# nx.draw_networkx(to_networkx(data, to_undirected=True))"
   ]
  },
  {
   "cell_type": "markdown",
   "id": "b5e253ef",
   "metadata": {},
   "source": [
    "## Downstream tasks"
   ]
  },
  {
   "cell_type": "markdown",
   "id": "b515d927",
   "metadata": {},
   "source": [
    "### Node Classification/Regression"
   ]
  },
  {
   "cell_type": "markdown",
   "id": "6fdfee52",
   "metadata": {},
   "source": [
    "<img src=\"figures/node-classification.png\" alt=\"Figure description\" width=\"500\"/>\n",
    "\n",
    "(CS224W Stanford)\n",
    "\n",
    "<p style=\"font-size: 18px;\">\n",
    "    Given a graph <i>G</i> where each node <i>v ∈ V</i> has an associated label <i>y<sub>v</sub></i> and the goal is\n",
    "    to learn a representation vector <i>h<sub>v</sub></i> of <i>v</i> such that <i>v</i>’s label can be predicted as \n",
    "    <i>y<sub>v</sub> = f(h<sub>v</sub>)</i>;\n",
    "</p>\n"
   ]
  },
  {
   "cell_type": "markdown",
   "id": "d8cff41d",
   "metadata": {},
   "source": [
    "## Graph Classification/Regression\n"
   ]
  },
  {
   "cell_type": "markdown",
   "id": "c8e57d6f",
   "metadata": {},
   "source": [
    "<img src=\"figures/gc.png\" alt=\"Figure description\" width=\"500\"/>\n"
   ]
  },
  {
   "cell_type": "markdown",
   "id": "4ba7a843",
   "metadata": {},
   "source": [
    "<p style=\"font-size: 18px;\">\n",
    "    Graph classification, where, given a set of graphs <i>{g<sub>1</sub>, ..., g<sub>n</sub>}</i> ⊆ <i>G</i> and their labels \n",
    "    <i>{y<sub>1</sub>, ..., y<sub>N</sub>}</i> ⊆ <i>Y</i>, we aim to learn a representation vector <i>h<sub>g</sub></i> that helps \n",
    "    predict the label of an entire graph, <i>y<sub>G</sub> = g(h<sub>g</sub>)</i>.\n",
    "</p>"
   ]
  },
  {
   "cell_type": "markdown",
   "id": "1075e170",
   "metadata": {},
   "source": [
    "## Link Prediction"
   ]
  },
  {
   "cell_type": "markdown",
   "id": "258fdb71",
   "metadata": {},
   "source": [
    "<img src=\"figures/lp.png\" alt=\"Figure description\" width=\"500\"/>\n",
    "ahmad et al, 2020"
   ]
  },
  {
   "cell_type": "markdown",
   "id": "fefcfa08",
   "metadata": {},
   "source": [
    "<p style=\"font-size: 18px;\">\n",
    "    Link prediction, where, given a graph <i>G = (V, E)</i> and a set of observed links <i>E</i> ⊆ <i>G</i>, we aim to predict the existence of potential links <i>E'</i> ⊆ <i>G</i> that are not yet observed. The goal is to learn a function <i>f</i> such that <i>E' = f(G)</i>.\n",
    "</p>"
   ]
  },
  {
   "cell_type": "markdown",
   "id": "463e2d03",
   "metadata": {},
   "source": [
    "## Applications of Graph ML"
   ]
  },
  {
   "cell_type": "markdown",
   "id": "b66f6a38",
   "metadata": {},
   "source": [
    "### Road Networks\n",
    "\n",
    "1. ETA (Estimated Time Arrival) Prediction\n",
    "2. Bus Ridership Forcasting\n",
    "\n",
    "<img src=\"figures/road_network.png\" alt=\"Figure description\" width=\"700\"/>\n",
    "Austin et al., 2021"
   ]
  },
  {
   "cell_type": "markdown",
   "id": "95510fa7",
   "metadata": {},
   "source": [
    "## Recommender systems"
   ]
  },
  {
   "cell_type": "markdown",
   "id": "c54c5b24",
   "metadata": {},
   "source": [
    "1. Recommend Food and Restaurants\n",
    "\n",
    "<img src=\"figures/uber_eats.png\" alt=\"Figure description\" width=\"700\"/>\n",
    "\n",
    "https://www.uber.com/blog/uber-eats-graph-learning/\n",
    "\n",
    "2. Relevant Pins Recommendation on Pinterest\n",
    "\n",
    "<img src=\"figures/pin.png\" alt=\"Figure description\" width=\"700\"/>\n",
    "\n",
    "https://medium.com/pinterest-engineering/pinsage-a-new-graph-convolutional-neural-network-for-web-scale-recommender-systems-88795a107f48"
   ]
  },
  {
   "cell_type": "markdown",
   "id": "4dc8dcd4",
   "metadata": {},
   "source": [
    "## Social Networks"
   ]
  },
  {
   "cell_type": "markdown",
   "id": "dcea0b10",
   "metadata": {},
   "source": [
    "1. Detecting Fake News on Twitter\n",
    "\n",
    "<img src=\"figures/twitter.png\" alt=\"Figure description\" width=\"700\"/>\n",
    "\n"
   ]
  },
  {
   "cell_type": "markdown",
   "id": "bc1b0b8b",
   "metadata": {},
   "source": [
    "## Healthcare\n",
    "\n",
    "1. Neuroimaging\n",
    "\n",
    "\n",
    "<img src=\"figures/fmri.png\" alt=\"Figure description\" width=\"700\"/>\n",
    "\n",
    "(Said et al., 2023)\n",
    "\n",
    "\n",
    "2. Predicting 3D protein Structure (AlphaFold2)\n",
    "\n",
    "<img src=\"figures/alphafold.png\" alt=\"Figure description\" width=\"700\"/>\n",
    "\n",
    "https://deepmind.google/technologies/alphafold/"
   ]
  },
  {
   "cell_type": "markdown",
   "id": "b28dab4f",
   "metadata": {},
   "source": [
    "### Some other applications\n",
    "\n",
    "1. Classifying users in a social network as bots or real users\n",
    "2. Predicting toxicity/property of molecules\n",
    "3. Classifying users in financial network as legitimate or suspicioius\n",
    "4. Traffic prediction: classifying road intersections or highway segment as high or low traffic zones in a road network"
   ]
  },
  {
   "cell_type": "markdown",
   "id": "eb9c3873",
   "metadata": {},
   "source": [
    "## Connection to NLP and Computer Vision"
   ]
  },
  {
   "cell_type": "markdown",
   "id": "79320459",
   "metadata": {},
   "source": [
    "1. Image as Regular Graph\n",
    "\n",
    "<img src=\"figures/grid.png\" alt=\"Figure description\" width=\"300\"/>\n",
    "\n",
    "2. Text as a Graph\n",
    "\n",
    "\n",
    "<img src=\"figures/text_graph.png\" alt=\"Figure description\" width=\"500\"/>\n",
    "https://medium.com/neuralspace/graphs-neural-networks-in-nlp-dc475eb089de\n",
    "\n",
    "We can define every node as a word and every edge as the dependency parse tag. Every word can have pos tags as attributes."
   ]
  },
  {
   "cell_type": "markdown",
   "id": "46e89006",
   "metadata": {},
   "source": [
    "## Graph ML: A General Overview\n",
    "\n",
    "Before getting into the topic, let's discuss a few challenges"
   ]
  },
  {
   "cell_type": "markdown",
   "id": "e87fc85e",
   "metadata": {},
   "source": [
    "## Challenges\n",
    "\n",
    "<img src=\"figures/challenges1.png\" alt=\"Figure description\" width=\"600\"/>\n",
    "\n",
    "<img src=\"figures/challenges2.png\" alt=\"Figure description\" width=\"600\"/>"
   ]
  },
  {
   "cell_type": "markdown",
   "id": "91bda891",
   "metadata": {},
   "source": [
    "## Naive Approach"
   ]
  },
  {
   "cell_type": "markdown",
   "id": "bbf5a50a",
   "metadata": {},
   "source": [
    "<img src=\"figures/Naive_approach.png\" alt=\"Figure description\" width=\"600\"/>"
   ]
  },
  {
   "cell_type": "markdown",
   "id": "39c5b86d",
   "metadata": {},
   "source": [
    "## How it works?"
   ]
  },
  {
   "cell_type": "markdown",
   "id": "bf98ee8b",
   "metadata": {},
   "source": [
    "### Kernels\n",
    "### Message Passing Neural Networks\n"
   ]
  },
  {
   "cell_type": "markdown",
   "id": "e2f845dd",
   "metadata": {},
   "source": [
    "<img src=\"figures/message_passing.png\" alt=\"Figure description\" width=\"600\"/>"
   ]
  },
  {
   "cell_type": "markdown",
   "id": "100ab9f1",
   "metadata": {},
   "source": [
    "## Kernel Methods\n",
    "\n",
    "<img src=\"figures/graph_descriptor.png\" alt=\"Figure description\" width=\"600\"/>"
   ]
  },
  {
   "cell_type": "markdown",
   "id": "99462ab0",
   "metadata": {},
   "source": [
    "### Shortest Path Kernel\n",
    "\n",
    "1. Transform the graph into shortest path graph\n",
    "2. Extract the distance matrix D\n",
    "3. Construct histogram h from D\n",
    "4. h is the corresponding graph representation"
   ]
  },
  {
   "cell_type": "markdown",
   "id": "62417183",
   "metadata": {},
   "source": [
    "<p>Complexity: O(n)<sup>3</sup></p>"
   ]
  },
  {
   "cell_type": "markdown",
   "id": "42c30e9c",
   "metadata": {},
   "source": [
    "## Graph Classification"
   ]
  },
  {
   "cell_type": "markdown",
   "id": "3e9931ef",
   "metadata": {},
   "source": [
    "#### IMDB-BINARY dataset\n",
    "\n",
    "IMDB-BINARY is a movie collaboration dataset that consists of the ego-networks of 1,000 actors/actresses who played roles in movies in IMDB. In each graph, nodes represent actors/actress, and there is an edge between them if they appear in the same movie. These graphs are derived from the Action and Romance genres."
   ]
  },
  {
   "cell_type": "markdown",
   "id": "96276bbe",
   "metadata": {},
   "source": [
    "<img src=\"figures/imdb.png\" alt=\"Figure description\" width=\"700\"/>"
   ]
  },
  {
   "cell_type": "code",
   "execution_count": 211,
   "id": "a4901455",
   "metadata": {},
   "outputs": [],
   "source": [
    "from torch_geometric.datasets import TUDataset"
   ]
  },
  {
   "cell_type": "code",
   "execution_count": 212,
   "id": "9342f154",
   "metadata": {},
   "outputs": [],
   "source": [
    "dataset = TUDataset(root = \"datasets\", name=\"IMDB-BINARY\")\n"
   ]
  },
  {
   "cell_type": "code",
   "execution_count": 176,
   "id": "e7d581bc",
   "metadata": {},
   "outputs": [
    {
     "name": "stdout",
     "output_type": "stream",
     "text": [
      "Dataset: IMDB-BINARY(1000):\n",
      "====================\n",
      "Number of graphs: 1000\n",
      "Number of features: 0\n",
      "Number of classes: 2\n"
     ]
    }
   ],
   "source": [
    "print(f'Dataset: {dataset}:')\n",
    "print('====================')\n",
    "print(f'Number of graphs: {len(dataset)}')\n",
    "print(f'Number of features: {dataset.num_features}')\n",
    "print(f'Number of classes: {dataset.num_classes}')"
   ]
  },
  {
   "cell_type": "code",
   "execution_count": 177,
   "id": "29f14dc6",
   "metadata": {},
   "outputs": [
    {
     "name": "stdout",
     "output_type": "stream",
     "text": [
      "\n",
      "Data(edge_index=[2, 146], y=[1], num_nodes=20)\n",
      "===========================================================================================================\n",
      "Number of nodes: 20\n",
      "Number of edges: 146\n",
      "Average node degree: 7.30\n",
      "Has isolated nodes: False\n",
      "Has self-loops: False\n",
      "Is undirected: True\n"
     ]
    }
   ],
   "source": [
    "data =  dataset[0]\n",
    "print()\n",
    "print(data)\n",
    "print('===========================================================================================================')\n",
    "print(f'Number of nodes: {data.num_nodes}')\n",
    "print(f'Number of edges: {data.num_edges}')\n",
    "print(f'Average node degree: {data.num_edges / data.num_nodes:.2f}')\n",
    "print(f'Has isolated nodes: {data.has_isolated_nodes()}')\n",
    "print(f'Has self-loops: {data.has_self_loops()}')\n",
    "print(f'Is undirected: {data.is_undirected()}')"
   ]
  },
  {
   "cell_type": "code",
   "execution_count": 178,
   "id": "b0f5b048",
   "metadata": {},
   "outputs": [],
   "source": [
    "from torch_geometric.loader import DataLoader\n",
    "import random\n",
    "import numpy as np\n",
    "seed =123\n"
   ]
  },
  {
   "cell_type": "code",
   "execution_count": 179,
   "id": "4440f120",
   "metadata": {},
   "outputs": [],
   "source": [
    "def set_seed(seed):\n",
    "    torch.manual_seed(seed)\n",
    "    torch.cuda.manual_seed(seed)\n",
    "    torch.cuda.manual_seed_all(seed)\n",
    "    torch.use_deterministic_algorithms(True)\n",
    "    np.random.seed(seed)\n",
    "    random.seed(seed)\n",
    "    os.environ['PYTHONHASHSEED'] = str(seed)\n",
    "set_seed(seed)"
   ]
  },
  {
   "cell_type": "markdown",
   "id": "6048514f",
   "metadata": {},
   "source": [
    "### feature construction from graph topology"
   ]
  },
  {
   "cell_type": "markdown",
   "id": "5f90ca6b",
   "metadata": {},
   "source": [
    "## One-Hot Degree Encoding"
   ]
  },
  {
   "cell_type": "code",
   "execution_count": 180,
   "id": "3056d76d",
   "metadata": {},
   "outputs": [
    {
     "data": {
      "text/plain": [
       "135"
      ]
     },
     "execution_count": 180,
     "metadata": {},
     "output_type": "execute_result"
    }
   ],
   "source": [
    "max_degree = max(torch.bincount(data.edge_index[0]).max().item() for data in dataset)\n",
    "max_degree"
   ]
  },
  {
   "cell_type": "code",
   "execution_count": 181,
   "id": "99c87de5",
   "metadata": {},
   "outputs": [],
   "source": [
    "from torch_geometric.transforms import OneHotDegree\n",
    "\n",
    "transform = OneHotDegree(max_degree)\n"
   ]
  },
  {
   "cell_type": "code",
   "execution_count": 183,
   "id": "58d97544",
   "metadata": {},
   "outputs": [
    {
     "data": {
      "text/plain": [
       "Data(edge_index=[2, 146], y=[1], num_nodes=20, x=[20, 136])"
      ]
     },
     "execution_count": 183,
     "metadata": {},
     "output_type": "execute_result"
    }
   ],
   "source": [
    "dataset_ = [transform(d) for d in dataset]\n",
    "dataset_[0]"
   ]
  },
  {
   "cell_type": "code",
   "execution_count": 52,
   "id": "19c15ca0",
   "metadata": {},
   "outputs": [],
   "source": [
    "# !pip install -U scikit-learn"
   ]
  },
  {
   "cell_type": "code",
   "execution_count": 184,
   "id": "f43c9f63",
   "metadata": {},
   "outputs": [],
   "source": [
    "from sklearn.model_selection import train_test_split"
   ]
  },
  {
   "cell_type": "code",
   "execution_count": 185,
   "id": "69e51314",
   "metadata": {},
   "outputs": [],
   "source": [
    "labels = [data.y.item() for data in dataset_]\n",
    "train_idx, temp_idx = train_test_split(range(len(dataset)), test_size=0.3, stratify=labels, random_state=seed)\n",
    "val_idx, test_idx = train_test_split(temp_idx, test_size=2/3, stratify=[labels[i] for i in temp_idx], random_state=seed)\n",
    "train_data = [dataset_[i] for i in train_idx]\n",
    "val_data = [dataset_[i] for i in val_idx]\n",
    "test_data = [dataset_[i] for i in test_idx]"
   ]
  },
  {
   "cell_type": "code",
   "execution_count": 186,
   "id": "a640a89b",
   "metadata": {},
   "outputs": [
    {
     "name": "stdout",
     "output_type": "stream",
     "text": [
      "700 100 200\n"
     ]
    }
   ],
   "source": [
    "print(len(train_data), len(val_data), len(test_data))"
   ]
  },
  {
   "cell_type": "code",
   "execution_count": 187,
   "id": "ca293c14",
   "metadata": {},
   "outputs": [],
   "source": [
    "batch_size = 16\n",
    "train_loader = DataLoader(train_data, batch_size = batch_size)\n",
    "val_loader = DataLoader(val_data, batch_size = batch_size)\n",
    "test_loader = DataLoader(test_data, batch_size = batch_size)"
   ]
  },
  {
   "cell_type": "code",
   "execution_count": 188,
   "id": "89b533d2",
   "metadata": {},
   "outputs": [
    {
     "name": "stdout",
     "output_type": "stream",
     "text": [
      "Step 1:\n",
      "=======\n",
      "Number of graphs in the current batch: 16\n",
      "DataBatch(edge_index=[2, 2566], y=[16], num_nodes=269, x=[269, 136], batch=[269], ptr=[17])\n",
      "\n"
     ]
    }
   ],
   "source": [
    "for step, data in enumerate(train_loader):\n",
    "    print(f'Step {step + 1}:')\n",
    "    print('=======')\n",
    "    print(f'Number of graphs in the current batch: {data.num_graphs}')\n",
    "    print(data)\n",
    "    print()\n",
    "    break"
   ]
  },
  {
   "cell_type": "code",
   "execution_count": 189,
   "id": "4a0216cc",
   "metadata": {},
   "outputs": [],
   "source": [
    "from torch.nn import Linear\n",
    "import torch.nn.functional as F\n",
    "from torch_geometric.nn import GraphConv\n",
    "from torch_geometric.nn import global_mean_pool"
   ]
  },
  {
   "cell_type": "code",
   "execution_count": 214,
   "id": "0e650b90",
   "metadata": {},
   "outputs": [],
   "source": [
    "class GraphNeuralNetwork(torch.nn.Module):\n",
    "    def __init__(self, hidden_channels):\n",
    "        super(GraphNeuralNetwork, self).__init__()\n",
    "        self.conv1 = GraphConv(num_features, hidden_channels)\n",
    "        self.conv2 = GraphConv(hidden_channels, hidden_channels)\n",
    "        self.conv3 = GraphConv(hidden_channels, hidden_channels)\n",
    "        self.lin = Linear(hidden_channels, num_classes)\n",
    "\n",
    "    def forward(self, x, edge_index, batch):\n",
    "        x = self.conv1(x, edge_index)\n",
    "        x = x.relu()\n",
    "        x = self.conv2(x, edge_index)\n",
    "        x = x.relu()\n",
    "        x = self.conv3(x, edge_index)\n",
    "        x = global_mean_pool(x, batch)  # [batch_size, hidden_channels]\n",
    "\n",
    "        x = F.dropout(x, p=0.5)\n",
    "        x = self.lin(x)\n",
    "        \n",
    "        return x"
   ]
  },
  {
   "cell_type": "code",
   "execution_count": 191,
   "id": "53159477",
   "metadata": {},
   "outputs": [],
   "source": [
    "def train(train_loader):\n",
    "    model.train()\n",
    "    total_loss = 0.0\n",
    "    for data in train_loader:  \n",
    "        out = model(data.x, data.edge_index, data.batch) \n",
    "        ls = criterion(out, data.y) \n",
    "        ls.backward()  # Derive gradients.\n",
    "        optimizer.step()  # Update parameters based on gradients.\n",
    "        optimizer.zero_grad()  # Clear gradients.\n",
    "        total_loss += ls.item() \n",
    "    \n",
    "    return total_loss / len(train_loader)\n",
    "        \n",
    "def test(loader):\n",
    "    model.eval()\n",
    "    correct = 0\n",
    "    for data in loader:  # Iterate in batches over the training/test dataset.\n",
    "        out = model(data.x, data.edge_index, data.batch)  \n",
    "        pred = out.argmax(dim=1)  # Use the class with highest probability.\n",
    "        correct += int((pred == data.y).sum())  # Check against ground-truth labels.\n",
    "    return correct / len(loader.dataset)  # Derive ratio of correct predictions.\n"
   ]
  },
  {
   "cell_type": "code",
   "execution_count": 216,
   "id": "1ea519dc",
   "metadata": {},
   "outputs": [
    {
     "name": "stdout",
     "output_type": "stream",
     "text": [
      "Epoch: 000, Train Loass: 5.7267 Val Acc: 0.4400, Test Acc: 0.4950\n",
      "Epoch: 010, Train Loass: 4.3271 Val Acc: 0.5700, Test Acc: 0.5400\n",
      "Epoch: 020, Train Loass: 3.1976 Val Acc: 0.4900, Test Acc: 0.5100\n",
      "Epoch: 030, Train Loass: 3.0958 Val Acc: 0.5200, Test Acc: 0.5800\n",
      "Epoch: 040, Train Loass: 2.3095 Val Acc: 0.5400, Test Acc: 0.6000\n",
      "Epoch: 050, Train Loass: 2.2281 Val Acc: 0.5600, Test Acc: 0.5650\n",
      "Epoch: 060, Train Loass: 2.3665 Val Acc: 0.6000, Test Acc: 0.6050\n",
      "Epoch: 070, Train Loass: 1.8382 Val Acc: 0.5400, Test Acc: 0.6250\n",
      "Epoch: 080, Train Loass: 1.8538 Val Acc: 0.5900, Test Acc: 0.6600\n",
      "Epoch: 090, Train Loass: 1.3245 Val Acc: 0.6100, Test Acc: 0.6350\n",
      "Epoch: 100, Train Loass: 1.5767 Val Acc: 0.6000, Test Acc: 0.6200\n",
      "Epoch: 110, Train Loass: 1.3186 Val Acc: 0.5400, Test Acc: 0.6850\n",
      "Epoch: 120, Train Loass: 1.2872 Val Acc: 0.5700, Test Acc: 0.6700\n",
      "Epoch: 130, Train Loass: 1.1616 Val Acc: 0.5600, Test Acc: 0.6350\n",
      "Epoch: 140, Train Loass: 0.9979 Val Acc: 0.6100, Test Acc: 0.6400\n",
      "Epoch: 150, Train Loass: 0.7943 Val Acc: 0.5900, Test Acc: 0.7050\n"
     ]
    }
   ],
   "source": [
    "set_seed(seed)\n",
    "epochs, hidden_channels, lr = 150, 16, 1e-5\n",
    "num_features, num_classes = train_data[0].x.shape[1], dataset.num_classes\n",
    "model = GraphNeuralNetwork(hidden_channels)\n",
    "optimizer = torch.optim.Adam(model.parameters(), lr=lr)\n",
    "criterion = torch.nn.CrossEntropyLoss()\n",
    "\n",
    "for epoch in range(epochs+1):\n",
    "    loss = train(train_loader)\n",
    "    val_acc = test(val_loader)\n",
    "    test_acc = test(test_loader)\n",
    "    if epoch%10==0:\n",
    "        print(f'Epoch: {epoch:03d}, Train Loass: {loss:.4f} Val Acc: {val_acc:.4f}, Test Acc: {test_acc:.4f}')\n"
   ]
  },
  {
   "cell_type": "markdown",
   "id": "1ee3a783",
   "metadata": {},
   "source": [
    "### Challenges with Unattributed Networks\n",
    "\n",
    ". Using OneHotDegreeEncoding is a common practice - however, it becomes challenging in networks with large degrees, e.g., social networks.\n",
    ". Concatenation of other centrality metrics has also been used\n",
    "\n",
    "#### No metrics are there to transform real-valued metrics or a way to have a dim-reduced degree representations "
   ]
  },
  {
   "cell_type": "markdown",
   "id": "131c185f",
   "metadata": {},
   "source": [
    "## PropEncoder\n"
   ]
  },
  {
   "cell_type": "markdown",
   "id": "a2260ccd",
   "metadata": {},
   "source": [
    "### PropEnc leverages histogram representations with reverse index encoding to construct node representations\n",
    "\n",
    "Anwar Said, and Xenofon Koutsoukos. \"A Property Encoder for Graph Neural Networks.\" arXiv preprint arXiv:2409.11554 (2024)"
   ]
  },
  {
   "cell_type": "markdown",
   "id": "073091c5",
   "metadata": {},
   "source": [
    "<p style=\"font-size: 16px;\">\n",
    "Let <i>G = (V, E)</i> be a graph and let <i>ϕ</i> be a function that extracts a node property <i>P</i> from <i>G</i>. We define the histogram <i>h<sub>G</sub>(P)</i> with range <i> ( \\min(P), \\max(P) ) </i> with <i> d </i> number of bins to construct the graph-level representation <i> h<sub>G</sub> </i>. The we construct <i>h<sub>v</sub></i> from <i> h<sub>G</sub> </i> as follows.\n",
    "</p>\n",
    "\n"
   ]
  },
  {
   "cell_type": "markdown",
   "id": "d6faccf9",
   "metadata": {},
   "source": [
    "<img src=\"figures/encoder.png\" alt=\"Figure description\" width=\"300\"/>"
   ]
  },
  {
   "cell_type": "code",
   "execution_count": 195,
   "id": "a473f693",
   "metadata": {},
   "outputs": [],
   "source": [
    "from torch_geometric.utils import degree, one_hot\n",
    "\n",
    "def PropEnc(data):\n",
    "    dataset_ = []\n",
    "    bins=50\n",
    "    for d in data:\n",
    "        feat = degree(d.edge_index[0], d.num_nodes)\n",
    "        feat = feat.numpy()\n",
    "        _, edges = np.histogram(feat, range = (1, max_degree),bins=bins)\n",
    "        indices = [np.digitize(f, edges, right=True) for f in feat]\n",
    "        d.x = one_hot(torch.tensor(indices), num_classes=bins+1)\n",
    "        dataset_.append(d)\n",
    "    return dataset_"
   ]
  },
  {
   "cell_type": "code",
   "execution_count": 196,
   "id": "a122d8b3",
   "metadata": {},
   "outputs": [],
   "source": [
    "dataset = TUDataset(root = \"datasets\", name=\"IMDB-BINARY\")\n",
    "dataset_ = PropEnc(dataset)\n"
   ]
  },
  {
   "cell_type": "code",
   "execution_count": 197,
   "id": "2475fd3a",
   "metadata": {},
   "outputs": [],
   "source": [
    "set_seed(seed)\n",
    "labels = [data.y.item() for data in dataset_]\n",
    "train_idx, temp_idx = train_test_split(range(len(dataset)), test_size=0.3, stratify=labels, random_state=seed)\n",
    "val_idx, test_idx = train_test_split(temp_idx, test_size=2/3, stratify=[labels[i] for i in temp_idx], random_state=seed)\n",
    "train_data = [dataset_[i] for i in train_idx]\n",
    "val_data = [dataset_[i] for i in val_idx]\n",
    "test_data = [dataset_[i] for i in test_idx]\n",
    "batch_size = 16\n",
    "train_loader = DataLoader(train_data, batch_size = batch_size)\n",
    "val_loader = DataLoader(val_data, batch_size = batch_size)\n",
    "test_loader = DataLoader(test_data, batch_size = batch_size)"
   ]
  },
  {
   "cell_type": "code",
   "execution_count": 198,
   "id": "90cde752",
   "metadata": {},
   "outputs": [
    {
     "name": "stdout",
     "output_type": "stream",
     "text": [
      "Epoch: 000, Train Loass: 5.7267 Val Acc: 0.5100, Test Acc: 0.4950\n",
      "Epoch: 010, Train Loass: 4.4188 Val Acc: 0.5300, Test Acc: 0.5300\n",
      "Epoch: 020, Train Loass: 2.9930 Val Acc: 0.5500, Test Acc: 0.5650\n",
      "Epoch: 030, Train Loass: 2.9189 Val Acc: 0.5500, Test Acc: 0.6450\n",
      "Epoch: 040, Train Loass: 2.0678 Val Acc: 0.6100, Test Acc: 0.6900\n",
      "Epoch: 050, Train Loass: 2.3438 Val Acc: 0.6400, Test Acc: 0.7150\n",
      "Epoch: 060, Train Loass: 1.8431 Val Acc: 0.6400, Test Acc: 0.7200\n",
      "Epoch: 070, Train Loass: 1.7981 Val Acc: 0.6600, Test Acc: 0.7250\n",
      "Epoch: 080, Train Loass: 1.4441 Val Acc: 0.6400, Test Acc: 0.7250\n",
      "Epoch: 090, Train Loass: 1.4337 Val Acc: 0.6400, Test Acc: 0.7250\n",
      "Epoch: 100, Train Loass: 1.4411 Val Acc: 0.6400, Test Acc: 0.7300\n"
     ]
    }
   ],
   "source": [
    "set_seed(seed)\n",
    "epochs, hidden_channels, lr = 100, 16, 1e-5\n",
    "num_features, num_classes = train_data[0].x.shape[1], 2\n",
    "model = GraphNeuralNetwork(hidden_channels)\n",
    "optimizer = torch.optim.Adam(model.parameters(), lr=lr)\n",
    "criterion = torch.nn.CrossEntropyLoss()\n",
    "\n",
    "for epoch in range(epochs+1):\n",
    "    loss = train(train_loader)\n",
    "    val_acc = test(val_loader)\n",
    "    test_acc = test(test_loader)\n",
    "    if epoch%10==0:\n",
    "        print(f'Epoch: {epoch:03d}, Train Loass: {loss:.4f} Val Acc: {val_acc:.4f}, Test Acc: {test_acc:.4f}')\n"
   ]
  },
  {
   "cell_type": "code",
   "execution_count": null,
   "id": "3cc7bc42",
   "metadata": {},
   "outputs": [],
   "source": []
  }
 ],
 "metadata": {
  "kernelspec": {
   "display_name": "pyg_env",
   "language": "python",
   "name": "pyg_env"
  },
  "language_info": {
   "codemirror_mode": {
    "name": "ipython",
    "version": 3
   },
   "file_extension": ".py",
   "mimetype": "text/x-python",
   "name": "python",
   "nbconvert_exporter": "python",
   "pygments_lexer": "ipython3",
   "version": "3.12.7"
  }
 },
 "nbformat": 4,
 "nbformat_minor": 5
}
